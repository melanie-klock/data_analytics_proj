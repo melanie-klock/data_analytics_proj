{
 "cells": [
  {
   "cell_type": "markdown",
   "metadata": {},
   "source": [
    "<b>DATA ANALYTICS PROJECT<b>:"
   ]
  },
  {
   "cell_type": "markdown",
   "metadata": {},
   "source": [
    "Group members: Jesse Reisner, Ryan Cree, Morgan McKee, Melanie Klock"
   ]
  },
  {
   "cell_type": "code",
   "execution_count": 178,
   "metadata": {},
   "outputs": [],
   "source": [
    "import numpy as np\n",
    "import pandas as pd\n",
    "import matplotlib.pyplot as plt\n",
    "import seaborn as sns\n",
    "sns.set()"
   ]
  },
  {
   "cell_type": "code",
   "execution_count": 179,
   "metadata": {},
   "outputs": [
    {
     "data": {
      "text/html": [
       "<div>\n",
       "<style scoped>\n",
       "    .dataframe tbody tr th:only-of-type {\n",
       "        vertical-align: middle;\n",
       "    }\n",
       "\n",
       "    .dataframe tbody tr th {\n",
       "        vertical-align: top;\n",
       "    }\n",
       "\n",
       "    .dataframe thead th {\n",
       "        text-align: right;\n",
       "    }\n",
       "</style>\n",
       "<table border=\"1\" class=\"dataframe\">\n",
       "  <thead>\n",
       "    <tr style=\"text-align: right;\">\n",
       "      <th></th>\n",
       "      <th>Animal ID</th>\n",
       "      <th>Name</th>\n",
       "      <th>DateTime</th>\n",
       "      <th>MonthYear</th>\n",
       "      <th>Date of Birth</th>\n",
       "      <th>Outcome Type</th>\n",
       "      <th>Outcome Subtype</th>\n",
       "      <th>Animal Type</th>\n",
       "      <th>Sex upon Outcome</th>\n",
       "      <th>Age upon Outcome</th>\n",
       "      <th>Breed</th>\n",
       "      <th>Color</th>\n",
       "    </tr>\n",
       "  </thead>\n",
       "  <tbody>\n",
       "    <tr>\n",
       "      <td>0</td>\n",
       "      <td>A794011</td>\n",
       "      <td>Chunk</td>\n",
       "      <td>05/08/2019 06:20:00 PM</td>\n",
       "      <td>05/08/2019 06:20:00 PM</td>\n",
       "      <td>05/02/2017</td>\n",
       "      <td>Rto-Adopt</td>\n",
       "      <td>NaN</td>\n",
       "      <td>Cat</td>\n",
       "      <td>Neutered Male</td>\n",
       "      <td>2 years</td>\n",
       "      <td>Domestic Shorthair Mix</td>\n",
       "      <td>Brown Tabby/White</td>\n",
       "    </tr>\n",
       "    <tr>\n",
       "      <td>1</td>\n",
       "      <td>A776359</td>\n",
       "      <td>Gizmo</td>\n",
       "      <td>07/18/2018 04:02:00 PM</td>\n",
       "      <td>07/18/2018 04:02:00 PM</td>\n",
       "      <td>07/12/2017</td>\n",
       "      <td>Adoption</td>\n",
       "      <td>NaN</td>\n",
       "      <td>Dog</td>\n",
       "      <td>Neutered Male</td>\n",
       "      <td>1 year</td>\n",
       "      <td>Chihuahua Shorthair Mix</td>\n",
       "      <td>White/Brown</td>\n",
       "    </tr>\n",
       "    <tr>\n",
       "      <td>2</td>\n",
       "      <td>A720371</td>\n",
       "      <td>Moose</td>\n",
       "      <td>02/13/2016 05:59:00 PM</td>\n",
       "      <td>02/13/2016 05:59:00 PM</td>\n",
       "      <td>10/08/2015</td>\n",
       "      <td>Adoption</td>\n",
       "      <td>NaN</td>\n",
       "      <td>Dog</td>\n",
       "      <td>Neutered Male</td>\n",
       "      <td>4 months</td>\n",
       "      <td>Anatol Shepherd/Labrador Retriever</td>\n",
       "      <td>Buff</td>\n",
       "    </tr>\n",
       "    <tr>\n",
       "      <td>3</td>\n",
       "      <td>A674754</td>\n",
       "      <td>NaN</td>\n",
       "      <td>03/18/2014 11:47:00 AM</td>\n",
       "      <td>03/18/2014 11:47:00 AM</td>\n",
       "      <td>03/12/2014</td>\n",
       "      <td>Transfer</td>\n",
       "      <td>Partner</td>\n",
       "      <td>Cat</td>\n",
       "      <td>Intact Male</td>\n",
       "      <td>6 days</td>\n",
       "      <td>Domestic Shorthair Mix</td>\n",
       "      <td>Orange Tabby</td>\n",
       "    </tr>\n",
       "    <tr>\n",
       "      <td>4</td>\n",
       "      <td>A689724</td>\n",
       "      <td>*Donatello</td>\n",
       "      <td>10/18/2014 06:52:00 PM</td>\n",
       "      <td>10/18/2014 06:52:00 PM</td>\n",
       "      <td>08/01/2014</td>\n",
       "      <td>Adoption</td>\n",
       "      <td>NaN</td>\n",
       "      <td>Cat</td>\n",
       "      <td>Neutered Male</td>\n",
       "      <td>2 months</td>\n",
       "      <td>Domestic Shorthair Mix</td>\n",
       "      <td>Black</td>\n",
       "    </tr>\n",
       "  </tbody>\n",
       "</table>\n",
       "</div>"
      ],
      "text/plain": [
       "  Animal ID        Name                DateTime               MonthYear  \\\n",
       "0   A794011       Chunk  05/08/2019 06:20:00 PM  05/08/2019 06:20:00 PM   \n",
       "1   A776359       Gizmo  07/18/2018 04:02:00 PM  07/18/2018 04:02:00 PM   \n",
       "2   A720371       Moose  02/13/2016 05:59:00 PM  02/13/2016 05:59:00 PM   \n",
       "3   A674754         NaN  03/18/2014 11:47:00 AM  03/18/2014 11:47:00 AM   \n",
       "4   A689724  *Donatello  10/18/2014 06:52:00 PM  10/18/2014 06:52:00 PM   \n",
       "\n",
       "  Date of Birth Outcome Type Outcome Subtype Animal Type Sex upon Outcome  \\\n",
       "0    05/02/2017    Rto-Adopt             NaN         Cat    Neutered Male   \n",
       "1    07/12/2017     Adoption             NaN         Dog    Neutered Male   \n",
       "2    10/08/2015     Adoption             NaN         Dog    Neutered Male   \n",
       "3    03/12/2014     Transfer         Partner         Cat      Intact Male   \n",
       "4    08/01/2014     Adoption             NaN         Cat    Neutered Male   \n",
       "\n",
       "  Age upon Outcome                               Breed              Color  \n",
       "0          2 years              Domestic Shorthair Mix  Brown Tabby/White  \n",
       "1           1 year             Chihuahua Shorthair Mix        White/Brown  \n",
       "2         4 months  Anatol Shepherd/Labrador Retriever               Buff  \n",
       "3           6 days              Domestic Shorthair Mix       Orange Tabby  \n",
       "4         2 months              Domestic Shorthair Mix              Black  "
      ]
     },
     "execution_count": 179,
     "metadata": {},
     "output_type": "execute_result"
    }
   ],
   "source": [
    "#read data:\n",
    "data = pd.read_csv('Austin_Animal_Center_Outcomes.csv')\n",
    "data.head()"
   ]
  },
  {
   "cell_type": "code",
   "execution_count": 180,
   "metadata": {},
   "outputs": [
    {
     "data": {
      "text/plain": [
       "(116560, 12)"
      ]
     },
     "execution_count": 180,
     "metadata": {},
     "output_type": "execute_result"
    }
   ],
   "source": [
    "data.shape"
   ]
  },
  {
   "cell_type": "markdown",
   "metadata": {},
   "source": [
    "<b>DATA PREP:</b>"
   ]
  },
  {
   "cell_type": "markdown",
   "metadata": {},
   "source": [
    "<i>Overview: DateTime is a column identical to MonthYear and therefore can be excluded. We also removed rows that do not have a class label. Outcome Subtype column also has mostly NAs, and only provide more detail to the class label, but wouldn't be needed for the model, so we can exclude that as well. Finally, we fixed the Age column to be numerical, in days, for simplicity."
   ]
  },
  {
   "cell_type": "code",
   "execution_count": 181,
   "metadata": {},
   "outputs": [
    {
     "name": "stdout",
     "output_type": "stream",
     "text": [
      "6\n",
      "(116554, 12)\n"
     ]
    }
   ],
   "source": [
    "#drop rows without class label\n",
    "print(data['Outcome Type'].isna().sum())\n",
    "data = data.dropna(subset = ['Outcome Type'])\n",
    "print(data.shape)"
   ]
  },
  {
   "cell_type": "code",
   "execution_count": 182,
   "metadata": {},
   "outputs": [
    {
     "data": {
      "text/plain": [
       "63914"
      ]
     },
     "execution_count": 182,
     "metadata": {},
     "output_type": "execute_result"
    }
   ],
   "source": [
    "data['Outcome Subtype'].isna().sum()"
   ]
  },
  {
   "cell_type": "code",
   "execution_count": 183,
   "metadata": {},
   "outputs": [
    {
     "name": "stdout",
     "output_type": "stream",
     "text": [
      "Animal ID :  0\n",
      "Name :  36481\n",
      "DateTime :  0\n",
      "MonthYear :  0\n",
      "Date of Birth :  0\n",
      "Outcome Type :  0\n",
      "Outcome Subtype :  63914\n",
      "Animal Type :  0\n",
      "Sex upon Outcome :  2\n",
      "Age upon Outcome :  37\n",
      "Breed :  0\n",
      "Color :  0\n"
     ]
    }
   ],
   "source": [
    "#checking each column for any NaN values\n",
    "for column in data.columns:\n",
    "    print(column, \": \", data[column].isna().sum())"
   ]
  },
  {
   "cell_type": "markdown",
   "metadata": {},
   "source": [
    "Outcome Subtype has more than half NaN values, so we will exclude this column from the dataset. For the other columns with missing values, we will drop those rows, since there aren't too many of them. <br>\n",
    "\n",
    "Name also has quite a few NaN values, but later on we can use this column for data exploration and feature engineering, so we will keep it for now. AnimalID is the key for this table, so it will also not be used in the model but could be useful for indexing, so we'll also keep it for now."
   ]
  },
  {
   "cell_type": "code",
   "execution_count": 184,
   "metadata": {},
   "outputs": [
    {
     "data": {
      "text/plain": [
       "(116554, 10)"
      ]
     },
     "execution_count": 184,
     "metadata": {},
     "output_type": "execute_result"
    }
   ],
   "source": [
    "#drop columns we don't need:\n",
    "data = data.drop(columns = ['Outcome Subtype', 'DateTime'])\n",
    "data.shape"
   ]
  },
  {
   "cell_type": "code",
   "execution_count": 185,
   "metadata": {},
   "outputs": [
    {
     "data": {
      "text/plain": [
       "(116516, 10)"
      ]
     },
     "execution_count": 185,
     "metadata": {},
     "output_type": "execute_result"
    }
   ],
   "source": [
    "#drop rows with missing data:\n",
    "data = data.dropna(subset = ['Sex upon Outcome', 'Age upon Outcome'])\n",
    "data.shape"
   ]
  },
  {
   "cell_type": "code",
   "execution_count": 186,
   "metadata": {},
   "outputs": [],
   "source": [
    "#fill NAs for Name column:\n",
    "data['Name'] = data['Name'].fillna(value = \"None\")"
   ]
  },
  {
   "cell_type": "markdown",
   "metadata": {},
   "source": [
    "We'll also make the MonthYear column a datetime object. "
   ]
  },
  {
   "cell_type": "code",
   "execution_count": 187,
   "metadata": {},
   "outputs": [],
   "source": [
    "data['MonthYear'] = data['MonthYear'].astype('datetime64[ns]')"
   ]
  },
  {
   "cell_type": "markdown",
   "metadata": {},
   "source": [
    "Next, we'll make the Age upon Outcome column numerical by transforming everything into days. There are some negative numbers, which are errors, and we'll drop these from our dataset."
   ]
  },
  {
   "cell_type": "markdown",
   "metadata": {},
   "source": [
    "There are some negative values, and also quite a few '0 years'. Since these values won't translate to days' units that make sense, we'll remove these rows. "
   ]
  },
  {
   "cell_type": "code",
   "execution_count": 189,
   "metadata": {},
   "outputs": [],
   "source": [
    "#this function takes a length of time and transforms it into # of days. \n",
    "#If there is a negative # , a zero, or the input does not match any formats, give the cell a None value.\n",
    "# we will say one month has 30 days. \n",
    "def time_days(time):\n",
    "    timesplit = time.split()\n",
    "    number = timesplit[0]\n",
    "    if(int(number) < 0): #if number is negative, return None\n",
    "        return None\n",
    "    unit = timesplit[1]\n",
    "    if 'year' in unit:\n",
    "        return (int(number) * 365)\n",
    "    elif 'month' in unit:\n",
    "        return (int(number) * 30)\n",
    "    elif 'week' in unit:\n",
    "        return (int(number) * 7)\n",
    "    elif 'days' in unit:\n",
    "        return (int(number))"
   ]
  },
  {
   "cell_type": "code",
   "execution_count": 190,
   "metadata": {},
   "outputs": [],
   "source": [
    "#age --> days\n",
    "data['Age upon Outcome'] = data.apply(lambda x: time_days(x['Age upon Outcome']), axis = 1)"
   ]
  },
  {
   "cell_type": "code",
   "execution_count": 191,
   "metadata": {},
   "outputs": [
    {
     "data": {
      "text/html": [
       "<div>\n",
       "<style scoped>\n",
       "    .dataframe tbody tr th:only-of-type {\n",
       "        vertical-align: middle;\n",
       "    }\n",
       "\n",
       "    .dataframe tbody tr th {\n",
       "        vertical-align: top;\n",
       "    }\n",
       "\n",
       "    .dataframe thead th {\n",
       "        text-align: right;\n",
       "    }\n",
       "</style>\n",
       "<table border=\"1\" class=\"dataframe\">\n",
       "  <thead>\n",
       "    <tr style=\"text-align: right;\">\n",
       "      <th></th>\n",
       "      <th>Animal ID</th>\n",
       "      <th>Name</th>\n",
       "      <th>MonthYear</th>\n",
       "      <th>Date of Birth</th>\n",
       "      <th>Outcome Type</th>\n",
       "      <th>Animal Type</th>\n",
       "      <th>Sex upon Outcome</th>\n",
       "      <th>Age upon Outcome</th>\n",
       "      <th>Breed</th>\n",
       "      <th>Color</th>\n",
       "    </tr>\n",
       "  </thead>\n",
       "  <tbody>\n",
       "    <tr>\n",
       "      <td>0</td>\n",
       "      <td>A794011</td>\n",
       "      <td>Chunk</td>\n",
       "      <td>2019-05-08 18:20:00</td>\n",
       "      <td>05/02/2017</td>\n",
       "      <td>Rto-Adopt</td>\n",
       "      <td>Cat</td>\n",
       "      <td>Neutered Male</td>\n",
       "      <td>730.0</td>\n",
       "      <td>Domestic Shorthair Mix</td>\n",
       "      <td>Brown Tabby/White</td>\n",
       "    </tr>\n",
       "    <tr>\n",
       "      <td>1</td>\n",
       "      <td>A776359</td>\n",
       "      <td>Gizmo</td>\n",
       "      <td>2018-07-18 16:02:00</td>\n",
       "      <td>07/12/2017</td>\n",
       "      <td>Adoption</td>\n",
       "      <td>Dog</td>\n",
       "      <td>Neutered Male</td>\n",
       "      <td>365.0</td>\n",
       "      <td>Chihuahua Shorthair Mix</td>\n",
       "      <td>White/Brown</td>\n",
       "    </tr>\n",
       "    <tr>\n",
       "      <td>2</td>\n",
       "      <td>A720371</td>\n",
       "      <td>Moose</td>\n",
       "      <td>2016-02-13 17:59:00</td>\n",
       "      <td>10/08/2015</td>\n",
       "      <td>Adoption</td>\n",
       "      <td>Dog</td>\n",
       "      <td>Neutered Male</td>\n",
       "      <td>120.0</td>\n",
       "      <td>Anatol Shepherd/Labrador Retriever</td>\n",
       "      <td>Buff</td>\n",
       "    </tr>\n",
       "    <tr>\n",
       "      <td>3</td>\n",
       "      <td>A674754</td>\n",
       "      <td>None</td>\n",
       "      <td>2014-03-18 11:47:00</td>\n",
       "      <td>03/12/2014</td>\n",
       "      <td>Transfer</td>\n",
       "      <td>Cat</td>\n",
       "      <td>Intact Male</td>\n",
       "      <td>6.0</td>\n",
       "      <td>Domestic Shorthair Mix</td>\n",
       "      <td>Orange Tabby</td>\n",
       "    </tr>\n",
       "    <tr>\n",
       "      <td>4</td>\n",
       "      <td>A689724</td>\n",
       "      <td>*Donatello</td>\n",
       "      <td>2014-10-18 18:52:00</td>\n",
       "      <td>08/01/2014</td>\n",
       "      <td>Adoption</td>\n",
       "      <td>Cat</td>\n",
       "      <td>Neutered Male</td>\n",
       "      <td>60.0</td>\n",
       "      <td>Domestic Shorthair Mix</td>\n",
       "      <td>Black</td>\n",
       "    </tr>\n",
       "  </tbody>\n",
       "</table>\n",
       "</div>"
      ],
      "text/plain": [
       "  Animal ID        Name           MonthYear Date of Birth Outcome Type  \\\n",
       "0   A794011       Chunk 2019-05-08 18:20:00    05/02/2017    Rto-Adopt   \n",
       "1   A776359       Gizmo 2018-07-18 16:02:00    07/12/2017     Adoption   \n",
       "2   A720371       Moose 2016-02-13 17:59:00    10/08/2015     Adoption   \n",
       "3   A674754        None 2014-03-18 11:47:00    03/12/2014     Transfer   \n",
       "4   A689724  *Donatello 2014-10-18 18:52:00    08/01/2014     Adoption   \n",
       "\n",
       "  Animal Type Sex upon Outcome  Age upon Outcome  \\\n",
       "0         Cat    Neutered Male             730.0   \n",
       "1         Dog    Neutered Male             365.0   \n",
       "2         Dog    Neutered Male             120.0   \n",
       "3         Cat      Intact Male               6.0   \n",
       "4         Cat    Neutered Male              60.0   \n",
       "\n",
       "                                Breed              Color  \n",
       "0              Domestic Shorthair Mix  Brown Tabby/White  \n",
       "1             Chihuahua Shorthair Mix        White/Brown  \n",
       "2  Anatol Shepherd/Labrador Retriever               Buff  \n",
       "3              Domestic Shorthair Mix       Orange Tabby  \n",
       "4              Domestic Shorthair Mix              Black  "
      ]
     },
     "execution_count": 191,
     "metadata": {},
     "output_type": "execute_result"
    }
   ],
   "source": [
    "data.head()"
   ]
  },
  {
   "cell_type": "code",
   "execution_count": 192,
   "metadata": {},
   "outputs": [
    {
     "name": "stdout",
     "output_type": "stream",
     "text": [
      "245\n"
     ]
    },
    {
     "data": {
      "text/plain": [
       "(116271, 10)"
      ]
     },
     "execution_count": 192,
     "metadata": {},
     "output_type": "execute_result"
    }
   ],
   "source": [
    "#drop rows with missing ages:\n",
    "print(data['Age upon Outcome'].isna().sum())\n",
    "data = data.dropna(subset = ['Age upon Outcome'])\n",
    "data.shape"
   ]
  },
  {
   "cell_type": "markdown",
   "metadata": {},
   "source": [
    "One last step. The column names are a bit long and have spaces, so we'll shorten them for efficiency."
   ]
  },
  {
   "cell_type": "code",
   "execution_count": 193,
   "metadata": {},
   "outputs": [
    {
     "data": {
      "text/html": [
       "<div>\n",
       "<style scoped>\n",
       "    .dataframe tbody tr th:only-of-type {\n",
       "        vertical-align: middle;\n",
       "    }\n",
       "\n",
       "    .dataframe tbody tr th {\n",
       "        vertical-align: top;\n",
       "    }\n",
       "\n",
       "    .dataframe thead th {\n",
       "        text-align: right;\n",
       "    }\n",
       "</style>\n",
       "<table border=\"1\" class=\"dataframe\">\n",
       "  <thead>\n",
       "    <tr style=\"text-align: right;\">\n",
       "      <th></th>\n",
       "      <th>id</th>\n",
       "      <th>name</th>\n",
       "      <th>date</th>\n",
       "      <th>dob</th>\n",
       "      <th>outcome</th>\n",
       "      <th>animal_type</th>\n",
       "      <th>sex</th>\n",
       "      <th>age</th>\n",
       "      <th>breed</th>\n",
       "      <th>color</th>\n",
       "    </tr>\n",
       "  </thead>\n",
       "  <tbody>\n",
       "    <tr>\n",
       "      <td>0</td>\n",
       "      <td>A794011</td>\n",
       "      <td>Chunk</td>\n",
       "      <td>2019-05-08 18:20:00</td>\n",
       "      <td>05/02/2017</td>\n",
       "      <td>Rto-Adopt</td>\n",
       "      <td>Cat</td>\n",
       "      <td>Neutered Male</td>\n",
       "      <td>730.0</td>\n",
       "      <td>Domestic Shorthair Mix</td>\n",
       "      <td>Brown Tabby/White</td>\n",
       "    </tr>\n",
       "    <tr>\n",
       "      <td>1</td>\n",
       "      <td>A776359</td>\n",
       "      <td>Gizmo</td>\n",
       "      <td>2018-07-18 16:02:00</td>\n",
       "      <td>07/12/2017</td>\n",
       "      <td>Adoption</td>\n",
       "      <td>Dog</td>\n",
       "      <td>Neutered Male</td>\n",
       "      <td>365.0</td>\n",
       "      <td>Chihuahua Shorthair Mix</td>\n",
       "      <td>White/Brown</td>\n",
       "    </tr>\n",
       "    <tr>\n",
       "      <td>2</td>\n",
       "      <td>A720371</td>\n",
       "      <td>Moose</td>\n",
       "      <td>2016-02-13 17:59:00</td>\n",
       "      <td>10/08/2015</td>\n",
       "      <td>Adoption</td>\n",
       "      <td>Dog</td>\n",
       "      <td>Neutered Male</td>\n",
       "      <td>120.0</td>\n",
       "      <td>Anatol Shepherd/Labrador Retriever</td>\n",
       "      <td>Buff</td>\n",
       "    </tr>\n",
       "    <tr>\n",
       "      <td>3</td>\n",
       "      <td>A674754</td>\n",
       "      <td>None</td>\n",
       "      <td>2014-03-18 11:47:00</td>\n",
       "      <td>03/12/2014</td>\n",
       "      <td>Transfer</td>\n",
       "      <td>Cat</td>\n",
       "      <td>Intact Male</td>\n",
       "      <td>6.0</td>\n",
       "      <td>Domestic Shorthair Mix</td>\n",
       "      <td>Orange Tabby</td>\n",
       "    </tr>\n",
       "    <tr>\n",
       "      <td>4</td>\n",
       "      <td>A689724</td>\n",
       "      <td>*Donatello</td>\n",
       "      <td>2014-10-18 18:52:00</td>\n",
       "      <td>08/01/2014</td>\n",
       "      <td>Adoption</td>\n",
       "      <td>Cat</td>\n",
       "      <td>Neutered Male</td>\n",
       "      <td>60.0</td>\n",
       "      <td>Domestic Shorthair Mix</td>\n",
       "      <td>Black</td>\n",
       "    </tr>\n",
       "  </tbody>\n",
       "</table>\n",
       "</div>"
      ],
      "text/plain": [
       "        id        name                date         dob    outcome animal_type  \\\n",
       "0  A794011       Chunk 2019-05-08 18:20:00  05/02/2017  Rto-Adopt         Cat   \n",
       "1  A776359       Gizmo 2018-07-18 16:02:00  07/12/2017   Adoption         Dog   \n",
       "2  A720371       Moose 2016-02-13 17:59:00  10/08/2015   Adoption         Dog   \n",
       "3  A674754        None 2014-03-18 11:47:00  03/12/2014   Transfer         Cat   \n",
       "4  A689724  *Donatello 2014-10-18 18:52:00  08/01/2014   Adoption         Cat   \n",
       "\n",
       "             sex    age                               breed              color  \n",
       "0  Neutered Male  730.0              Domestic Shorthair Mix  Brown Tabby/White  \n",
       "1  Neutered Male  365.0             Chihuahua Shorthair Mix        White/Brown  \n",
       "2  Neutered Male  120.0  Anatol Shepherd/Labrador Retriever               Buff  \n",
       "3    Intact Male    6.0              Domestic Shorthair Mix       Orange Tabby  \n",
       "4  Neutered Male   60.0              Domestic Shorthair Mix              Black  "
      ]
     },
     "execution_count": 193,
     "metadata": {},
     "output_type": "execute_result"
    }
   ],
   "source": [
    "#change columns\n",
    "clean_data = data.copy() #make a copy of the data for EDA\n",
    "clean_data.columns = ['id', 'name', 'date', 'dob', 'outcome', 'animal_type','sex', 'age', 'breed', 'color']\n",
    "clean_data.head()"
   ]
  },
  {
   "cell_type": "markdown",
   "metadata": {},
   "source": [
    "<b> DATA EXPLORATION: </b>"
   ]
  },
  {
   "cell_type": "markdown",
   "metadata": {},
   "source": [
    "some interesting exploration ideas:<br>\n",
    "- look at monthYear and when pets are adopted / during what month do adoptions spike?\n",
    "- look at Animal Types and Breeds vs. Outcomes"
   ]
  },
  {
   "cell_type": "code",
   "execution_count": 194,
   "metadata": {},
   "outputs": [
    {
     "data": {
      "text/plain": [
       "<matplotlib.axes._subplots.AxesSubplot at 0x1a35e47750>"
      ]
     },
     "execution_count": 194,
     "metadata": {},
     "output_type": "execute_result"
    },
    {
     "data": {
      "image/png": "[encoded data removed]",
      "text/plain": [
       "<Figure size 432x288 with 1 Axes>"
      ]
     },
     "metadata": {},
     "output_type": "display_data"
    }
   ],
   "source": [
    "clean_data['animal_type'].value_counts().plot(kind = 'barh')"
   ]
  },
  {
   "cell_type": "code",
   "execution_count": 195,
   "metadata": {},
   "outputs": [
    {
     "data": {
      "text/plain": [
       "<matplotlib.axes._subplots.AxesSubplot at 0x1a42c319d0>"
      ]
     },
     "execution_count": 195,
     "metadata": {},
     "output_type": "execute_result"
    },
    {
     "data": {
      "text/plain": [
       "<Figure size 1440x720 with 0 Axes>"
      ]
     },
     "metadata": {},
     "output_type": "display_data"
    },
    {
     "data": {
      "image/png": "[encoded data removed]",
      "text/plain": [
       "<Figure size 432x288 with 1 Axes>"
      ]
     },
     "metadata": {},
     "output_type": "display_data"
    }
   ],
   "source": [
    "breeds = pd.DataFrame(clean_data['breed'].value_counts()).reset_index()\n",
    "plt.figure(figsize=(20,10))\n",
    "breeds.iloc[:100].plot()"
   ]
  },
  {
   "cell_type": "markdown",
   "metadata": {},
   "source": [
    "Based on this graph, we can see that the frequency of breeds tapers off drastically after the top 10 breeds. The imbalance means that we could probably make breeds after the top 20 in the \"Other\" category. "
   ]
  },
  {
   "cell_type": "code",
   "execution_count": 196,
   "metadata": {},
   "outputs": [
    {
     "data": {
      "text/plain": [
       "<matplotlib.axes._subplots.AxesSubplot at 0x1a3f27ca10>"
      ]
     },
     "execution_count": 196,
     "metadata": {},
     "output_type": "execute_result"
    },
    {
     "data": {
      "text/plain": [
       "<Figure size 1440x720 with 0 Axes>"
      ]
     },
     "metadata": {},
     "output_type": "display_data"
    },
    {
     "data": {
      "image/png": "[encoded data removed]",
      "text/plain": [
       "<Figure size 432x288 with 1 Axes>"
      ]
     },
     "metadata": {},
     "output_type": "display_data"
    }
   ],
   "source": [
    "colors = pd.DataFrame(clean_data['color'].value_counts()).reset_index()\n",
    "plt.figure(figsize=(20,10))\n",
    "colors.iloc[:150].plot()"
   ]
  },
  {
   "cell_type": "markdown",
   "metadata": {},
   "source": [
    "Based on this graph, we can see that the frequency of colors tapers off drastically after the top 50 breeds. The imbalance means that we could probably make breeds after the top 60 in the \"Other\" category. "
   ]
  },
  {
   "cell_type": "markdown",
   "metadata": {},
   "source": [
    "<b> FEATURE ENGINEERING: </b>"
   ]
  },
  {
   "cell_type": "markdown",
   "metadata": {},
   "source": [
    "<i>Overview: We merged categories in the class label to avoid redundancy of labels, for a total of 4 classes: Adoption, Transfer, Return to Owner, and Death. We also created an \"Other\" attribute for the Breed and Color columns for attributes that had a low frequency. This would simplify things for data analysis since breeds/colors that have very low frequency would not be necessarily helpful, and might just serve as noise. We also took out the dob column because it's redundant with the age column."
   ]
  },
  {
   "cell_type": "code",
   "execution_count": 197,
   "metadata": {
    "scrolled": true
   },
   "outputs": [
    {
     "data": {
      "text/plain": [
       "Adoption           51399\n",
       "Transfer           34460\n",
       "Return to Owner    20474\n",
       "Euthanasia          7728\n",
       "Died                1049\n",
       "Rto-Adopt            592\n",
       "Disposal             482\n",
       "Missing               67\n",
       "Relocate              20\n",
       "Name: outcome, dtype: int64"
      ]
     },
     "execution_count": 197,
     "metadata": {},
     "output_type": "execute_result"
    }
   ],
   "source": [
    "clean_data['outcome'].value_counts()"
   ]
  },
  {
   "cell_type": "code",
   "execution_count": 198,
   "metadata": {},
   "outputs": [],
   "source": [
    "#we can merge some of these outcome types that mean the same thing:\n",
    "#relocate --> transfer\n",
    "#disposal --> died\n",
    "#rto-adopt --> adoption\n",
    "\n",
    "#take out missing outcomes\n",
    "#4 final categories: adoption, transfer, return to owner, died.\n",
    "def merge(outcome):\n",
    "    if ((outcome == 'Euthanasia') or (outcome == 'Disposal')):\n",
    "        return 'Died'\n",
    "    elif (outcome == 'Relocate'):\n",
    "        return 'Transfer'\n",
    "    elif (outcome == 'Rto-Adopt'):\n",
    "        return 'Adoption'\n",
    "    elif (outcome == 'Missing'):\n",
    "        return None \n",
    "    else:\n",
    "        return outcome"
   ]
  },
  {
   "cell_type": "code",
   "execution_count": 199,
   "metadata": {},
   "outputs": [],
   "source": [
    "clean_data['class'] = clean_data.apply(lambda x: merge(x['outcome']), axis = 1)"
   ]
  },
  {
   "cell_type": "code",
   "execution_count": 200,
   "metadata": {},
   "outputs": [
    {
     "data": {
      "text/html": [
       "<div>\n",
       "<style scoped>\n",
       "    .dataframe tbody tr th:only-of-type {\n",
       "        vertical-align: middle;\n",
       "    }\n",
       "\n",
       "    .dataframe tbody tr th {\n",
       "        vertical-align: top;\n",
       "    }\n",
       "\n",
       "    .dataframe thead th {\n",
       "        text-align: right;\n",
       "    }\n",
       "</style>\n",
       "<table border=\"1\" class=\"dataframe\">\n",
       "  <thead>\n",
       "    <tr style=\"text-align: right;\">\n",
       "      <th></th>\n",
       "      <th>id</th>\n",
       "      <th>name</th>\n",
       "      <th>date</th>\n",
       "      <th>dob</th>\n",
       "      <th>outcome</th>\n",
       "      <th>animal_type</th>\n",
       "      <th>sex</th>\n",
       "      <th>age</th>\n",
       "      <th>breed</th>\n",
       "      <th>color</th>\n",
       "      <th>class</th>\n",
       "    </tr>\n",
       "  </thead>\n",
       "  <tbody>\n",
       "    <tr>\n",
       "      <td>0</td>\n",
       "      <td>A794011</td>\n",
       "      <td>Chunk</td>\n",
       "      <td>2019-05-08 18:20:00</td>\n",
       "      <td>05/02/2017</td>\n",
       "      <td>Rto-Adopt</td>\n",
       "      <td>Cat</td>\n",
       "      <td>Neutered Male</td>\n",
       "      <td>730.0</td>\n",
       "      <td>Domestic Shorthair Mix</td>\n",
       "      <td>Brown Tabby/White</td>\n",
       "      <td>Adoption</td>\n",
       "    </tr>\n",
       "    <tr>\n",
       "      <td>1</td>\n",
       "      <td>A776359</td>\n",
       "      <td>Gizmo</td>\n",
       "      <td>2018-07-18 16:02:00</td>\n",
       "      <td>07/12/2017</td>\n",
       "      <td>Adoption</td>\n",
       "      <td>Dog</td>\n",
       "      <td>Neutered Male</td>\n",
       "      <td>365.0</td>\n",
       "      <td>Chihuahua Shorthair Mix</td>\n",
       "      <td>White/Brown</td>\n",
       "      <td>Adoption</td>\n",
       "    </tr>\n",
       "    <tr>\n",
       "      <td>2</td>\n",
       "      <td>A720371</td>\n",
       "      <td>Moose</td>\n",
       "      <td>2016-02-13 17:59:00</td>\n",
       "      <td>10/08/2015</td>\n",
       "      <td>Adoption</td>\n",
       "      <td>Dog</td>\n",
       "      <td>Neutered Male</td>\n",
       "      <td>120.0</td>\n",
       "      <td>Anatol Shepherd/Labrador Retriever</td>\n",
       "      <td>Buff</td>\n",
       "      <td>Adoption</td>\n",
       "    </tr>\n",
       "    <tr>\n",
       "      <td>3</td>\n",
       "      <td>A674754</td>\n",
       "      <td>None</td>\n",
       "      <td>2014-03-18 11:47:00</td>\n",
       "      <td>03/12/2014</td>\n",
       "      <td>Transfer</td>\n",
       "      <td>Cat</td>\n",
       "      <td>Intact Male</td>\n",
       "      <td>6.0</td>\n",
       "      <td>Domestic Shorthair Mix</td>\n",
       "      <td>Orange Tabby</td>\n",
       "      <td>Transfer</td>\n",
       "    </tr>\n",
       "    <tr>\n",
       "      <td>4</td>\n",
       "      <td>A689724</td>\n",
       "      <td>*Donatello</td>\n",
       "      <td>2014-10-18 18:52:00</td>\n",
       "      <td>08/01/2014</td>\n",
       "      <td>Adoption</td>\n",
       "      <td>Cat</td>\n",
       "      <td>Neutered Male</td>\n",
       "      <td>60.0</td>\n",
       "      <td>Domestic Shorthair Mix</td>\n",
       "      <td>Black</td>\n",
       "      <td>Adoption</td>\n",
       "    </tr>\n",
       "  </tbody>\n",
       "</table>\n",
       "</div>"
      ],
      "text/plain": [
       "        id        name                date         dob    outcome animal_type  \\\n",
       "0  A794011       Chunk 2019-05-08 18:20:00  05/02/2017  Rto-Adopt         Cat   \n",
       "1  A776359       Gizmo 2018-07-18 16:02:00  07/12/2017   Adoption         Dog   \n",
       "2  A720371       Moose 2016-02-13 17:59:00  10/08/2015   Adoption         Dog   \n",
       "3  A674754        None 2014-03-18 11:47:00  03/12/2014   Transfer         Cat   \n",
       "4  A689724  *Donatello 2014-10-18 18:52:00  08/01/2014   Adoption         Cat   \n",
       "\n",
       "             sex    age                               breed  \\\n",
       "0  Neutered Male  730.0              Domestic Shorthair Mix   \n",
       "1  Neutered Male  365.0             Chihuahua Shorthair Mix   \n",
       "2  Neutered Male  120.0  Anatol Shepherd/Labrador Retriever   \n",
       "3    Intact Male    6.0              Domestic Shorthair Mix   \n",
       "4  Neutered Male   60.0              Domestic Shorthair Mix   \n",
       "\n",
       "               color     class  \n",
       "0  Brown Tabby/White  Adoption  \n",
       "1        White/Brown  Adoption  \n",
       "2               Buff  Adoption  \n",
       "3       Orange Tabby  Transfer  \n",
       "4              Black  Adoption  "
      ]
     },
     "execution_count": 200,
     "metadata": {},
     "output_type": "execute_result"
    }
   ],
   "source": [
    "clean_data.head()"
   ]
  },
  {
   "cell_type": "code",
   "execution_count": 201,
   "metadata": {},
   "outputs": [
    {
     "data": {
      "text/plain": [
       "Adoption           51991\n",
       "Transfer           34480\n",
       "Return to Owner    20474\n",
       "Died                9259\n",
       "Name: class, dtype: int64"
      ]
     },
     "execution_count": 201,
     "metadata": {},
     "output_type": "execute_result"
    }
   ],
   "source": [
    "clean_data['class'].value_counts()"
   ]
  },
  {
   "cell_type": "code",
   "execution_count": 202,
   "metadata": {},
   "outputs": [
    {
     "name": "stdout",
     "output_type": "stream",
     "text": [
      "67\n"
     ]
    },
    {
     "data": {
      "text/plain": [
       "(116204, 10)"
      ]
     },
     "execution_count": 202,
     "metadata": {},
     "output_type": "execute_result"
    }
   ],
   "source": [
    "#drop missing outcomes and drop outcome column\n",
    "print(clean_data['class'].isna().sum())\n",
    "clean_data = clean_data.dropna(subset = ['class'])\n",
    "clean_data = clean_data.drop(columns = ['outcome'])\n",
    "clean_data.shape"
   ]
  },
  {
   "cell_type": "markdown",
   "metadata": {},
   "source": [
    "We also wanted to separate the date into month, day, year, day of the week, and time, so that we can get as much value out of this column as possible."
   ]
  },
  {
   "cell_type": "code",
   "execution_count": 205,
   "metadata": {},
   "outputs": [],
   "source": [
    "import datetime as dt\n",
    "#separate date column into month, day, year, day of the week, and time. \n",
    "clean_data['day'] = clean_data.date.dt.day\n",
    "clean_data['month'] = clean_data.date.dt.month\n",
    "clean_data['year'] = clean_data.date.dt.year\n",
    "clean_data['time'] = clean_data.date.dt.time\n",
    "clean_data['weekday'] = clean_data.date.dt.weekday"
   ]
  },
  {
   "cell_type": "code",
   "execution_count": 206,
   "metadata": {},
   "outputs": [
    {
     "data": {
      "text/html": [
       "<div>\n",
       "<style scoped>\n",
       "    .dataframe tbody tr th:only-of-type {\n",
       "        vertical-align: middle;\n",
       "    }\n",
       "\n",
       "    .dataframe tbody tr th {\n",
       "        vertical-align: top;\n",
       "    }\n",
       "\n",
       "    .dataframe thead th {\n",
       "        text-align: right;\n",
       "    }\n",
       "</style>\n",
       "<table border=\"1\" class=\"dataframe\">\n",
       "  <thead>\n",
       "    <tr style=\"text-align: right;\">\n",
       "      <th></th>\n",
       "      <th>id</th>\n",
       "      <th>name</th>\n",
       "      <th>date</th>\n",
       "      <th>dob</th>\n",
       "      <th>animal_type</th>\n",
       "      <th>sex</th>\n",
       "      <th>age</th>\n",
       "      <th>breed</th>\n",
       "      <th>color</th>\n",
       "      <th>class</th>\n",
       "      <th>day</th>\n",
       "      <th>month</th>\n",
       "      <th>year</th>\n",
       "      <th>time</th>\n",
       "      <th>weekday</th>\n",
       "    </tr>\n",
       "  </thead>\n",
       "  <tbody>\n",
       "    <tr>\n",
       "      <td>0</td>\n",
       "      <td>A794011</td>\n",
       "      <td>Chunk</td>\n",
       "      <td>2019-05-08 18:20:00</td>\n",
       "      <td>05/02/2017</td>\n",
       "      <td>Cat</td>\n",
       "      <td>Neutered Male</td>\n",
       "      <td>730.0</td>\n",
       "      <td>Domestic Shorthair Mix</td>\n",
       "      <td>Brown Tabby/White</td>\n",
       "      <td>Adoption</td>\n",
       "      <td>8</td>\n",
       "      <td>5</td>\n",
       "      <td>2019</td>\n",
       "      <td>18:20:00</td>\n",
       "      <td>2</td>\n",
       "    </tr>\n",
       "    <tr>\n",
       "      <td>1</td>\n",
       "      <td>A776359</td>\n",
       "      <td>Gizmo</td>\n",
       "      <td>2018-07-18 16:02:00</td>\n",
       "      <td>07/12/2017</td>\n",
       "      <td>Dog</td>\n",
       "      <td>Neutered Male</td>\n",
       "      <td>365.0</td>\n",
       "      <td>Chihuahua Shorthair Mix</td>\n",
       "      <td>White/Brown</td>\n",
       "      <td>Adoption</td>\n",
       "      <td>18</td>\n",
       "      <td>7</td>\n",
       "      <td>2018</td>\n",
       "      <td>16:02:00</td>\n",
       "      <td>2</td>\n",
       "    </tr>\n",
       "    <tr>\n",
       "      <td>2</td>\n",
       "      <td>A720371</td>\n",
       "      <td>Moose</td>\n",
       "      <td>2016-02-13 17:59:00</td>\n",
       "      <td>10/08/2015</td>\n",
       "      <td>Dog</td>\n",
       "      <td>Neutered Male</td>\n",
       "      <td>120.0</td>\n",
       "      <td>Anatol Shepherd/Labrador Retriever</td>\n",
       "      <td>Buff</td>\n",
       "      <td>Adoption</td>\n",
       "      <td>13</td>\n",
       "      <td>2</td>\n",
       "      <td>2016</td>\n",
       "      <td>17:59:00</td>\n",
       "      <td>5</td>\n",
       "    </tr>\n",
       "    <tr>\n",
       "      <td>3</td>\n",
       "      <td>A674754</td>\n",
       "      <td>None</td>\n",
       "      <td>2014-03-18 11:47:00</td>\n",
       "      <td>03/12/2014</td>\n",
       "      <td>Cat</td>\n",
       "      <td>Intact Male</td>\n",
       "      <td>6.0</td>\n",
       "      <td>Domestic Shorthair Mix</td>\n",
       "      <td>Orange Tabby</td>\n",
       "      <td>Transfer</td>\n",
       "      <td>18</td>\n",
       "      <td>3</td>\n",
       "      <td>2014</td>\n",
       "      <td>11:47:00</td>\n",
       "      <td>1</td>\n",
       "    </tr>\n",
       "    <tr>\n",
       "      <td>4</td>\n",
       "      <td>A689724</td>\n",
       "      <td>*Donatello</td>\n",
       "      <td>2014-10-18 18:52:00</td>\n",
       "      <td>08/01/2014</td>\n",
       "      <td>Cat</td>\n",
       "      <td>Neutered Male</td>\n",
       "      <td>60.0</td>\n",
       "      <td>Domestic Shorthair Mix</td>\n",
       "      <td>Black</td>\n",
       "      <td>Adoption</td>\n",
       "      <td>18</td>\n",
       "      <td>10</td>\n",
       "      <td>2014</td>\n",
       "      <td>18:52:00</td>\n",
       "      <td>5</td>\n",
       "    </tr>\n",
       "  </tbody>\n",
       "</table>\n",
       "</div>"
      ],
      "text/plain": [
       "        id        name                date         dob animal_type  \\\n",
       "0  A794011       Chunk 2019-05-08 18:20:00  05/02/2017         Cat   \n",
       "1  A776359       Gizmo 2018-07-18 16:02:00  07/12/2017         Dog   \n",
       "2  A720371       Moose 2016-02-13 17:59:00  10/08/2015         Dog   \n",
       "3  A674754        None 2014-03-18 11:47:00  03/12/2014         Cat   \n",
       "4  A689724  *Donatello 2014-10-18 18:52:00  08/01/2014         Cat   \n",
       "\n",
       "             sex    age                               breed  \\\n",
       "0  Neutered Male  730.0              Domestic Shorthair Mix   \n",
       "1  Neutered Male  365.0             Chihuahua Shorthair Mix   \n",
       "2  Neutered Male  120.0  Anatol Shepherd/Labrador Retriever   \n",
       "3    Intact Male    6.0              Domestic Shorthair Mix   \n",
       "4  Neutered Male   60.0              Domestic Shorthair Mix   \n",
       "\n",
       "               color     class  day  month  year      time  weekday  \n",
       "0  Brown Tabby/White  Adoption    8      5  2019  18:20:00        2  \n",
       "1        White/Brown  Adoption   18      7  2018  16:02:00        2  \n",
       "2               Buff  Adoption   13      2  2016  17:59:00        5  \n",
       "3       Orange Tabby  Transfer   18      3  2014  11:47:00        1  \n",
       "4              Black  Adoption   18     10  2014  18:52:00        5  "
      ]
     },
     "execution_count": 206,
     "metadata": {},
     "output_type": "execute_result"
    }
   ],
   "source": [
    "clean_data.head()"
   ]
  },
  {
   "cell_type": "markdown",
   "metadata": {},
   "source": [
    "Another problem we ran into was that there are many different breeds and colors as possible attributes. A lot of these breeds and colors have a very low frequency (i.e. they only show up in the data once). We categorized any breeds or colors under thresholds as \"Other\"."
   ]
  },
  {
   "cell_type": "code",
   "execution_count": 207,
   "metadata": {},
   "outputs": [],
   "source": [
    "#threshold for breeds, if under threshold --> \"Other\". threshold here is top 30!\n",
    "top_breeds = breeds.iloc[:50]\n",
    "top_breeds.columns = ['topbreed', 'count']\n",
    "breed_updated_data = pd.merge(clean_data, top_breeds, how = 'left', left_on = 'breed', right_on = 'topbreed')"
   ]
  },
  {
   "cell_type": "code",
   "execution_count": 208,
   "metadata": {},
   "outputs": [
    {
     "name": "stdout",
     "output_type": "stream",
     "text": [
      "25826\n"
     ]
    }
   ],
   "source": [
    "print(breed_updated_data.topbreed.isna().sum())\n",
    "breed_updated_data.topbreed = breed_updated_data.topbreed.fillna(value = 'Other')"
   ]
  },
  {
   "cell_type": "code",
   "execution_count": 209,
   "metadata": {},
   "outputs": [
    {
     "data": {
      "text/html": [
       "<div>\n",
       "<style scoped>\n",
       "    .dataframe tbody tr th:only-of-type {\n",
       "        vertical-align: middle;\n",
       "    }\n",
       "\n",
       "    .dataframe tbody tr th {\n",
       "        vertical-align: top;\n",
       "    }\n",
       "\n",
       "    .dataframe thead th {\n",
       "        text-align: right;\n",
       "    }\n",
       "</style>\n",
       "<table border=\"1\" class=\"dataframe\">\n",
       "  <thead>\n",
       "    <tr style=\"text-align: right;\">\n",
       "      <th></th>\n",
       "      <th>id</th>\n",
       "      <th>name</th>\n",
       "      <th>date</th>\n",
       "      <th>dob</th>\n",
       "      <th>animal_type</th>\n",
       "      <th>sex</th>\n",
       "      <th>age</th>\n",
       "      <th>breed</th>\n",
       "      <th>color</th>\n",
       "      <th>class</th>\n",
       "      <th>day</th>\n",
       "      <th>month</th>\n",
       "      <th>year</th>\n",
       "      <th>time</th>\n",
       "      <th>weekday</th>\n",
       "      <th>topbreed</th>\n",
       "      <th>count</th>\n",
       "    </tr>\n",
       "  </thead>\n",
       "  <tbody>\n",
       "    <tr>\n",
       "      <td>0</td>\n",
       "      <td>A794011</td>\n",
       "      <td>Chunk</td>\n",
       "      <td>2019-05-08 18:20:00</td>\n",
       "      <td>05/02/2017</td>\n",
       "      <td>Cat</td>\n",
       "      <td>Neutered Male</td>\n",
       "      <td>730.0</td>\n",
       "      <td>Domestic Shorthair Mix</td>\n",
       "      <td>Brown Tabby/White</td>\n",
       "      <td>Adoption</td>\n",
       "      <td>8</td>\n",
       "      <td>5</td>\n",
       "      <td>2019</td>\n",
       "      <td>18:20:00</td>\n",
       "      <td>2</td>\n",
       "      <td>Domestic Shorthair Mix</td>\n",
       "      <td>30570.0</td>\n",
       "    </tr>\n",
       "    <tr>\n",
       "      <td>1</td>\n",
       "      <td>A776359</td>\n",
       "      <td>Gizmo</td>\n",
       "      <td>2018-07-18 16:02:00</td>\n",
       "      <td>07/12/2017</td>\n",
       "      <td>Dog</td>\n",
       "      <td>Neutered Male</td>\n",
       "      <td>365.0</td>\n",
       "      <td>Chihuahua Shorthair Mix</td>\n",
       "      <td>White/Brown</td>\n",
       "      <td>Adoption</td>\n",
       "      <td>18</td>\n",
       "      <td>7</td>\n",
       "      <td>2018</td>\n",
       "      <td>16:02:00</td>\n",
       "      <td>2</td>\n",
       "      <td>Chihuahua Shorthair Mix</td>\n",
       "      <td>6137.0</td>\n",
       "    </tr>\n",
       "    <tr>\n",
       "      <td>2</td>\n",
       "      <td>A720371</td>\n",
       "      <td>Moose</td>\n",
       "      <td>2016-02-13 17:59:00</td>\n",
       "      <td>10/08/2015</td>\n",
       "      <td>Dog</td>\n",
       "      <td>Neutered Male</td>\n",
       "      <td>120.0</td>\n",
       "      <td>Anatol Shepherd/Labrador Retriever</td>\n",
       "      <td>Buff</td>\n",
       "      <td>Adoption</td>\n",
       "      <td>13</td>\n",
       "      <td>2</td>\n",
       "      <td>2016</td>\n",
       "      <td>17:59:00</td>\n",
       "      <td>5</td>\n",
       "      <td>Other</td>\n",
       "      <td>NaN</td>\n",
       "    </tr>\n",
       "    <tr>\n",
       "      <td>3</td>\n",
       "      <td>A674754</td>\n",
       "      <td>None</td>\n",
       "      <td>2014-03-18 11:47:00</td>\n",
       "      <td>03/12/2014</td>\n",
       "      <td>Cat</td>\n",
       "      <td>Intact Male</td>\n",
       "      <td>6.0</td>\n",
       "      <td>Domestic Shorthair Mix</td>\n",
       "      <td>Orange Tabby</td>\n",
       "      <td>Transfer</td>\n",
       "      <td>18</td>\n",
       "      <td>3</td>\n",
       "      <td>2014</td>\n",
       "      <td>11:47:00</td>\n",
       "      <td>1</td>\n",
       "      <td>Domestic Shorthair Mix</td>\n",
       "      <td>30570.0</td>\n",
       "    </tr>\n",
       "    <tr>\n",
       "      <td>4</td>\n",
       "      <td>A689724</td>\n",
       "      <td>*Donatello</td>\n",
       "      <td>2014-10-18 18:52:00</td>\n",
       "      <td>08/01/2014</td>\n",
       "      <td>Cat</td>\n",
       "      <td>Neutered Male</td>\n",
       "      <td>60.0</td>\n",
       "      <td>Domestic Shorthair Mix</td>\n",
       "      <td>Black</td>\n",
       "      <td>Adoption</td>\n",
       "      <td>18</td>\n",
       "      <td>10</td>\n",
       "      <td>2014</td>\n",
       "      <td>18:52:00</td>\n",
       "      <td>5</td>\n",
       "      <td>Domestic Shorthair Mix</td>\n",
       "      <td>30570.0</td>\n",
       "    </tr>\n",
       "  </tbody>\n",
       "</table>\n",
       "</div>"
      ],
      "text/plain": [
       "        id        name                date         dob animal_type  \\\n",
       "0  A794011       Chunk 2019-05-08 18:20:00  05/02/2017         Cat   \n",
       "1  A776359       Gizmo 2018-07-18 16:02:00  07/12/2017         Dog   \n",
       "2  A720371       Moose 2016-02-13 17:59:00  10/08/2015         Dog   \n",
       "3  A674754        None 2014-03-18 11:47:00  03/12/2014         Cat   \n",
       "4  A689724  *Donatello 2014-10-18 18:52:00  08/01/2014         Cat   \n",
       "\n",
       "             sex    age                               breed  \\\n",
       "0  Neutered Male  730.0              Domestic Shorthair Mix   \n",
       "1  Neutered Male  365.0             Chihuahua Shorthair Mix   \n",
       "2  Neutered Male  120.0  Anatol Shepherd/Labrador Retriever   \n",
       "3    Intact Male    6.0              Domestic Shorthair Mix   \n",
       "4  Neutered Male   60.0              Domestic Shorthair Mix   \n",
       "\n",
       "               color     class  day  month  year      time  weekday  \\\n",
       "0  Brown Tabby/White  Adoption    8      5  2019  18:20:00        2   \n",
       "1        White/Brown  Adoption   18      7  2018  16:02:00        2   \n",
       "2               Buff  Adoption   13      2  2016  17:59:00        5   \n",
       "3       Orange Tabby  Transfer   18      3  2014  11:47:00        1   \n",
       "4              Black  Adoption   18     10  2014  18:52:00        5   \n",
       "\n",
       "                  topbreed    count  \n",
       "0   Domestic Shorthair Mix  30570.0  \n",
       "1  Chihuahua Shorthair Mix   6137.0  \n",
       "2                    Other      NaN  \n",
       "3   Domestic Shorthair Mix  30570.0  \n",
       "4   Domestic Shorthair Mix  30570.0  "
      ]
     },
     "execution_count": 209,
     "metadata": {},
     "output_type": "execute_result"
    }
   ],
   "source": [
    "breed_updated_data.head()"
   ]
  },
  {
   "cell_type": "code",
   "execution_count": 210,
   "metadata": {},
   "outputs": [],
   "source": [
    "#drop regular breed column\n",
    "breed_updated_data = breed_updated_data.drop(columns = ['breed'])\n",
    "\n",
    "#threshold for colors, if under threshold --> \"Other\". threshold here is top 50!\n",
    "top_colors = colors.iloc[:50]\n",
    "top_colors.columns = ['topcolor', 'count']\n",
    "color_updated_data = pd.merge(breed_updated_data, top_colors, how = 'left', left_on = 'color', right_on = 'topcolor')"
   ]
  },
  {
   "cell_type": "code",
   "execution_count": 211,
   "metadata": {},
   "outputs": [
    {
     "name": "stdout",
     "output_type": "stream",
     "text": [
      "12294\n"
     ]
    }
   ],
   "source": [
    "print(color_updated_data.topcolor.isna().sum())\n",
    "color_updated_data.topcolor = color_updated_data.topcolor.fillna(value = 'Other')"
   ]
  },
  {
   "cell_type": "code",
   "execution_count": 212,
   "metadata": {},
   "outputs": [
    {
     "data": {
      "text/html": [
       "<div>\n",
       "<style scoped>\n",
       "    .dataframe tbody tr th:only-of-type {\n",
       "        vertical-align: middle;\n",
       "    }\n",
       "\n",
       "    .dataframe tbody tr th {\n",
       "        vertical-align: top;\n",
       "    }\n",
       "\n",
       "    .dataframe thead th {\n",
       "        text-align: right;\n",
       "    }\n",
       "</style>\n",
       "<table border=\"1\" class=\"dataframe\">\n",
       "  <thead>\n",
       "    <tr style=\"text-align: right;\">\n",
       "      <th></th>\n",
       "      <th>id</th>\n",
       "      <th>name</th>\n",
       "      <th>date</th>\n",
       "      <th>dob</th>\n",
       "      <th>animal_type</th>\n",
       "      <th>sex</th>\n",
       "      <th>age</th>\n",
       "      <th>color</th>\n",
       "      <th>class</th>\n",
       "      <th>day</th>\n",
       "      <th>month</th>\n",
       "      <th>year</th>\n",
       "      <th>time</th>\n",
       "      <th>weekday</th>\n",
       "      <th>topbreed</th>\n",
       "      <th>count_x</th>\n",
       "      <th>topcolor</th>\n",
       "      <th>count_y</th>\n",
       "    </tr>\n",
       "  </thead>\n",
       "  <tbody>\n",
       "    <tr>\n",
       "      <td>0</td>\n",
       "      <td>A794011</td>\n",
       "      <td>Chunk</td>\n",
       "      <td>2019-05-08 18:20:00</td>\n",
       "      <td>05/02/2017</td>\n",
       "      <td>Cat</td>\n",
       "      <td>Neutered Male</td>\n",
       "      <td>730.0</td>\n",
       "      <td>Brown Tabby/White</td>\n",
       "      <td>Adoption</td>\n",
       "      <td>8</td>\n",
       "      <td>5</td>\n",
       "      <td>2019</td>\n",
       "      <td>18:20:00</td>\n",
       "      <td>2</td>\n",
       "      <td>Domestic Shorthair Mix</td>\n",
       "      <td>30570.0</td>\n",
       "      <td>Brown Tabby/White</td>\n",
       "      <td>3441.0</td>\n",
       "    </tr>\n",
       "    <tr>\n",
       "      <td>1</td>\n",
       "      <td>A776359</td>\n",
       "      <td>Gizmo</td>\n",
       "      <td>2018-07-18 16:02:00</td>\n",
       "      <td>07/12/2017</td>\n",
       "      <td>Dog</td>\n",
       "      <td>Neutered Male</td>\n",
       "      <td>365.0</td>\n",
       "      <td>White/Brown</td>\n",
       "      <td>Adoption</td>\n",
       "      <td>18</td>\n",
       "      <td>7</td>\n",
       "      <td>2018</td>\n",
       "      <td>16:02:00</td>\n",
       "      <td>2</td>\n",
       "      <td>Chihuahua Shorthair Mix</td>\n",
       "      <td>6137.0</td>\n",
       "      <td>White/Brown</td>\n",
       "      <td>2259.0</td>\n",
       "    </tr>\n",
       "    <tr>\n",
       "      <td>2</td>\n",
       "      <td>A720371</td>\n",
       "      <td>Moose</td>\n",
       "      <td>2016-02-13 17:59:00</td>\n",
       "      <td>10/08/2015</td>\n",
       "      <td>Dog</td>\n",
       "      <td>Neutered Male</td>\n",
       "      <td>120.0</td>\n",
       "      <td>Buff</td>\n",
       "      <td>Adoption</td>\n",
       "      <td>13</td>\n",
       "      <td>2</td>\n",
       "      <td>2016</td>\n",
       "      <td>17:59:00</td>\n",
       "      <td>5</td>\n",
       "      <td>Other</td>\n",
       "      <td>NaN</td>\n",
       "      <td>Buff</td>\n",
       "      <td>489.0</td>\n",
       "    </tr>\n",
       "    <tr>\n",
       "      <td>3</td>\n",
       "      <td>A674754</td>\n",
       "      <td>None</td>\n",
       "      <td>2014-03-18 11:47:00</td>\n",
       "      <td>03/12/2014</td>\n",
       "      <td>Cat</td>\n",
       "      <td>Intact Male</td>\n",
       "      <td>6.0</td>\n",
       "      <td>Orange Tabby</td>\n",
       "      <td>Transfer</td>\n",
       "      <td>18</td>\n",
       "      <td>3</td>\n",
       "      <td>2014</td>\n",
       "      <td>11:47:00</td>\n",
       "      <td>1</td>\n",
       "      <td>Domestic Shorthair Mix</td>\n",
       "      <td>30570.0</td>\n",
       "      <td>Orange Tabby</td>\n",
       "      <td>3218.0</td>\n",
       "    </tr>\n",
       "    <tr>\n",
       "      <td>4</td>\n",
       "      <td>A689724</td>\n",
       "      <td>*Donatello</td>\n",
       "      <td>2014-10-18 18:52:00</td>\n",
       "      <td>08/01/2014</td>\n",
       "      <td>Cat</td>\n",
       "      <td>Neutered Male</td>\n",
       "      <td>60.0</td>\n",
       "      <td>Black</td>\n",
       "      <td>Adoption</td>\n",
       "      <td>18</td>\n",
       "      <td>10</td>\n",
       "      <td>2014</td>\n",
       "      <td>18:52:00</td>\n",
       "      <td>5</td>\n",
       "      <td>Domestic Shorthair Mix</td>\n",
       "      <td>30570.0</td>\n",
       "      <td>Black</td>\n",
       "      <td>9735.0</td>\n",
       "    </tr>\n",
       "  </tbody>\n",
       "</table>\n",
       "</div>"
      ],
      "text/plain": [
       "        id        name                date         dob animal_type  \\\n",
       "0  A794011       Chunk 2019-05-08 18:20:00  05/02/2017         Cat   \n",
       "1  A776359       Gizmo 2018-07-18 16:02:00  07/12/2017         Dog   \n",
       "2  A720371       Moose 2016-02-13 17:59:00  10/08/2015         Dog   \n",
       "3  A674754        None 2014-03-18 11:47:00  03/12/2014         Cat   \n",
       "4  A689724  *Donatello 2014-10-18 18:52:00  08/01/2014         Cat   \n",
       "\n",
       "             sex    age              color     class  day  month  year  \\\n",
       "0  Neutered Male  730.0  Brown Tabby/White  Adoption    8      5  2019   \n",
       "1  Neutered Male  365.0        White/Brown  Adoption   18      7  2018   \n",
       "2  Neutered Male  120.0               Buff  Adoption   13      2  2016   \n",
       "3    Intact Male    6.0       Orange Tabby  Transfer   18      3  2014   \n",
       "4  Neutered Male   60.0              Black  Adoption   18     10  2014   \n",
       "\n",
       "       time  weekday                 topbreed  count_x           topcolor  \\\n",
       "0  18:20:00        2   Domestic Shorthair Mix  30570.0  Brown Tabby/White   \n",
       "1  16:02:00        2  Chihuahua Shorthair Mix   6137.0        White/Brown   \n",
       "2  17:59:00        5                    Other      NaN               Buff   \n",
       "3  11:47:00        1   Domestic Shorthair Mix  30570.0       Orange Tabby   \n",
       "4  18:52:00        5   Domestic Shorthair Mix  30570.0              Black   \n",
       "\n",
       "   count_y  \n",
       "0   3441.0  \n",
       "1   2259.0  \n",
       "2    489.0  \n",
       "3   3218.0  \n",
       "4   9735.0  "
      ]
     },
     "execution_count": 212,
     "metadata": {},
     "output_type": "execute_result"
    }
   ],
   "source": [
    "color_updated_data.head()"
   ]
  },
  {
   "cell_type": "code",
   "execution_count": 215,
   "metadata": {},
   "outputs": [
    {
     "data": {
      "text/html": [
       "<div>\n",
       "<style scoped>\n",
       "    .dataframe tbody tr th:only-of-type {\n",
       "        vertical-align: middle;\n",
       "    }\n",
       "\n",
       "    .dataframe tbody tr th {\n",
       "        vertical-align: top;\n",
       "    }\n",
       "\n",
       "    .dataframe thead th {\n",
       "        text-align: right;\n",
       "    }\n",
       "</style>\n",
       "<table border=\"1\" class=\"dataframe\">\n",
       "  <thead>\n",
       "    <tr style=\"text-align: right;\">\n",
       "      <th></th>\n",
       "      <th>animal_type</th>\n",
       "      <th>sex</th>\n",
       "      <th>age</th>\n",
       "      <th>breed</th>\n",
       "      <th>color</th>\n",
       "      <th>day</th>\n",
       "      <th>month</th>\n",
       "      <th>year</th>\n",
       "      <th>time</th>\n",
       "      <th>class</th>\n",
       "    </tr>\n",
       "  </thead>\n",
       "  <tbody>\n",
       "    <tr>\n",
       "      <td>0</td>\n",
       "      <td>Cat</td>\n",
       "      <td>Neutered Male</td>\n",
       "      <td>730.0</td>\n",
       "      <td>Domestic Shorthair Mix</td>\n",
       "      <td>Brown Tabby/White</td>\n",
       "      <td>8</td>\n",
       "      <td>5</td>\n",
       "      <td>2019</td>\n",
       "      <td>18:20:00</td>\n",
       "      <td>Adoption</td>\n",
       "    </tr>\n",
       "    <tr>\n",
       "      <td>1</td>\n",
       "      <td>Dog</td>\n",
       "      <td>Neutered Male</td>\n",
       "      <td>365.0</td>\n",
       "      <td>Chihuahua Shorthair Mix</td>\n",
       "      <td>White/Brown</td>\n",
       "      <td>18</td>\n",
       "      <td>7</td>\n",
       "      <td>2018</td>\n",
       "      <td>16:02:00</td>\n",
       "      <td>Adoption</td>\n",
       "    </tr>\n",
       "    <tr>\n",
       "      <td>2</td>\n",
       "      <td>Dog</td>\n",
       "      <td>Neutered Male</td>\n",
       "      <td>120.0</td>\n",
       "      <td>Other</td>\n",
       "      <td>Buff</td>\n",
       "      <td>13</td>\n",
       "      <td>2</td>\n",
       "      <td>2016</td>\n",
       "      <td>17:59:00</td>\n",
       "      <td>Adoption</td>\n",
       "    </tr>\n",
       "    <tr>\n",
       "      <td>3</td>\n",
       "      <td>Cat</td>\n",
       "      <td>Intact Male</td>\n",
       "      <td>6.0</td>\n",
       "      <td>Domestic Shorthair Mix</td>\n",
       "      <td>Orange Tabby</td>\n",
       "      <td>18</td>\n",
       "      <td>3</td>\n",
       "      <td>2014</td>\n",
       "      <td>11:47:00</td>\n",
       "      <td>Transfer</td>\n",
       "    </tr>\n",
       "    <tr>\n",
       "      <td>4</td>\n",
       "      <td>Cat</td>\n",
       "      <td>Neutered Male</td>\n",
       "      <td>60.0</td>\n",
       "      <td>Domestic Shorthair Mix</td>\n",
       "      <td>Black</td>\n",
       "      <td>18</td>\n",
       "      <td>10</td>\n",
       "      <td>2014</td>\n",
       "      <td>18:52:00</td>\n",
       "      <td>Adoption</td>\n",
       "    </tr>\n",
       "  </tbody>\n",
       "</table>\n",
       "</div>"
      ],
      "text/plain": [
       "  animal_type            sex    age                    breed  \\\n",
       "0         Cat  Neutered Male  730.0   Domestic Shorthair Mix   \n",
       "1         Dog  Neutered Male  365.0  Chihuahua Shorthair Mix   \n",
       "2         Dog  Neutered Male  120.0                    Other   \n",
       "3         Cat    Intact Male    6.0   Domestic Shorthair Mix   \n",
       "4         Cat  Neutered Male   60.0   Domestic Shorthair Mix   \n",
       "\n",
       "               color  day  month  year      time     class  \n",
       "0  Brown Tabby/White    8      5  2019  18:20:00  Adoption  \n",
       "1        White/Brown   18      7  2018  16:02:00  Adoption  \n",
       "2               Buff   13      2  2016  17:59:00  Adoption  \n",
       "3       Orange Tabby   18      3  2014  11:47:00  Transfer  \n",
       "4              Black   18     10  2014  18:52:00  Adoption  "
      ]
     },
     "execution_count": 215,
     "metadata": {},
     "output_type": "execute_result"
    }
   ],
   "source": [
    "#dataset is ready for model!\n",
    "final_data = color_updated_data.filter(items = ['animal_type', 'sex', 'age', 'topbreed', \n",
    "                                                'topcolor', 'day', 'month', 'year', 'time','class'])\n",
    "final_data.columns = ['animal_type', 'sex', 'age', 'breed', 'color', 'day', 'month', 'year', 'time','class']\n",
    "final_data.head()"
   ]
  },
  {
   "cell_type": "markdown",
   "metadata": {},
   "source": [
    "Data is ready for model input!"
   ]
  },
  {
   "cell_type": "code",
   "execution_count": null,
   "metadata": {},
   "outputs": [],
   "source": []
  }
 ],
 "metadata": {
  "kernelspec": {
   "display_name": "Python 3",
   "language": "python",
   "name": "python3"
  },
  "language_info": {
   "codemirror_mode": {
    "name": "ipython",
    "version": 3
   },
   "file_extension": ".py",
   "mimetype": "text/x-python",
   "name": "python",
   "nbconvert_exporter": "python",
   "pygments_lexer": "ipython3",
   "version": "3.7.4"
  }
 },
 "nbformat": 4,
 "nbformat_minor": 2
}
